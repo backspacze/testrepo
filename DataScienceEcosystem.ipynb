{
 "cells": [
  {
   "cell_type": "markdown",
   "id": "93479af2-90af-4e6d-9925-09b3729ff9b1",
   "metadata": {
    "tags": []
   },
   "source": [
    "<h1> Data Science Tools and Ecosystem </h1>\n",
    "\"In this notebook, Data Science Tools and Ecosystem are summarized.\"\n",
    "<h2>Author: Jakub Hodina</h2>"
   ]
  },
  {
   "cell_type": "markdown",
   "id": "37d30736-c7b9-4cbc-abc7-6ac735990b3d",
   "metadata": {},
   "source": [
    "Some of the popular languages that Data Scientists use are:\n",
    "- Python\n",
    "- R\n",
    "- Scala\n",
    "- SQL"
   ]
  },
  {
   "cell_type": "markdown",
   "id": "fd076440-3a67-4ff7-a4e3-23dd3a19e176",
   "metadata": {
    "tags": []
   },
   "source": [
    "Some of the commonly used libraries used by Data Scientists include:\n",
    "- pandas\n",
    "- NumPy\n",
    "- scikit-learn\n",
    "- matplotlib\n",
    "- seaborn\n",
    "- TensorFlow\n",
    "- Keras\n",
    "- ggplot\n",
    "- and many more..."
   ]
  },
  {
   "cell_type": "markdown",
   "id": "bbc87414-d8bd-429a-a65a-2c256e36fe9b",
   "metadata": {
    "tags": []
   },
   "source": [
    "| Data Science Tools |\n",
    "| --- |\n",
    "| Watson Studio |\n",
    "| RStudio |\n",
    "| JupyterLab |"
   ]
  },
  {
   "cell_type": "markdown",
   "id": "211ff0d4-9002-4f99-90f0-9c5fc2cb51eb",
   "metadata": {},
   "source": [
    "<h3> Below are a few examples of evaluating arithmetic expressions in Python </h3>"
   ]
  },
  {
   "cell_type": "markdown",
   "id": "f5fc8402-bb2b-420a-81e7-011903e72932",
   "metadata": {
    "tags": []
   },
   "source": [
    "<b>Objectives:</b>\n",
    "- SQL\n",
    "- R\n",
    "- Python"
   ]
  },
  {
   "cell_type": "code",
   "execution_count": 6,
   "id": "4c428103-684f-4b72-8af6-7b21403ab06c",
   "metadata": {
    "tags": []
   },
   "outputs": [
    {
     "name": "stdout",
     "output_type": "stream",
     "text": [
      "17\n"
     ]
    }
   ],
   "source": [
    "#This a simple arithmetic expression to mutiply then add integers\n",
    "y = (3*4)+5\n",
    "print (y)"
   ]
  },
  {
   "cell_type": "code",
   "execution_count": 13,
   "id": "24f790ac-75b7-413d-84dc-f88939b908a3",
   "metadata": {
    "tags": []
   },
   "outputs": [
    {
     "name": "stdout",
     "output_type": "stream",
     "text": [
      "3.3333333333333335\n"
     ]
    }
   ],
   "source": [
    "# This will convert 200 minutes to hours by diving by 60\n",
    "x = 200\n",
    "y = 60\n",
    "z = (x / y)\n",
    "print (z)"
   ]
  },
  {
   "cell_type": "code",
   "execution_count": null,
   "id": "8a963b09-d5a9-4611-9fa5-b97591145804",
   "metadata": {},
   "outputs": [],
   "source": []
  }
 ],
 "metadata": {
  "kernelspec": {
   "display_name": "Python 3 (ipykernel)",
   "language": "python",
   "name": "python3"
  },
  "language_info": {
   "codemirror_mode": {
    "name": "ipython",
    "version": 3
   },
   "file_extension": ".py",
   "mimetype": "text/x-python",
   "name": "python",
   "nbconvert_exporter": "python",
   "pygments_lexer": "ipython3",
   "version": "3.11.4"
  }
 },
 "nbformat": 4,
 "nbformat_minor": 5
}
